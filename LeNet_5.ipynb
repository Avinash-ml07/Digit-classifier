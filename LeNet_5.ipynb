{
  "nbformat": 4,
  "nbformat_minor": 0,
  "metadata": {
    "colab": {
      "provenance": [],
      "authorship_tag": "ABX9TyNEBoOySJD5dLIV9ly1XpmE",
      "include_colab_link": true
    },
    "kernelspec": {
      "name": "python3",
      "display_name": "Python 3"
    },
    "language_info": {
      "name": "python"
    }
  },
  "cells": [
    {
      "cell_type": "markdown",
      "metadata": {
        "id": "view-in-github",
        "colab_type": "text"
      },
      "source": [
        "<a href=\"https://colab.research.google.com/github/Avinash-ml07/Digit-classifier/blob/main/LeNet_5.ipynb\" target=\"_parent\"><img src=\"https://colab.research.google.com/assets/colab-badge.svg\" alt=\"Open In Colab\"/></a>"
      ]
    },
    {
      "cell_type": "code",
      "source": [
        "import tensorflow as tf\n",
        "from tensorflow import pad\n",
        "from tensorflow.keras import layers,models,datasets\n",
        "import matplotlib.pyplot as plt\n"
      ],
      "metadata": {
        "id": "ReGkcc44rXu0"
      },
      "execution_count": 2,
      "outputs": []
    },
    {
      "cell_type": "code",
      "source": [
        "(train_images,train_labels),(test_images,test_labels) = datasets.mnist.load_data()\n",
        "train_images = train_images/255.0\n",
        "test_images = test_images/255.0\n",
        "train_images = pad(train_images,[[0,0],[2,2],[2,2]])\n",
        "test_images = pad(test_images,[[0,0],[2,2],[2,2]])\n",
        "train_images = tf.expand_dims(train_images,axis=-1)\n",
        "test_images  = tf.expand_dims(test_images,axis=-1)\n"
      ],
      "metadata": {
        "id": "fI1a_4SErZtm",
        "outputId": "af7547cb-5bc4-489d-d9e6-503652e21a72",
        "colab": {
          "base_uri": "https://localhost:8080/"
        }
      },
      "execution_count": 3,
      "outputs": [
        {
          "output_type": "stream",
          "name": "stdout",
          "text": [
            "Downloading data from https://storage.googleapis.com/tensorflow/tf-keras-datasets/mnist.npz\n",
            "\u001b[1m11490434/11490434\u001b[0m \u001b[32m━━━━━━━━━━━━━━━━━━━━\u001b[0m\u001b[37m\u001b[0m \u001b[1m0s\u001b[0m 0us/step\n"
          ]
        }
      ]
    },
    {
      "cell_type": "code",
      "source": [
        "model = models.Sequential([\n",
        "    layers.Conv2D(6,(5,5),activation='tanh',input_shape=(32,32,1)),\n",
        "    layers.AveragePooling2D((2,2)),\n",
        "\n",
        "    layers.Conv2D(16,(5,5),activation='tanh'),\n",
        "    layers.AveragePooling2D((2,2)),\n",
        "\n",
        "    layers.Flatten(),\n",
        "    layers.Dense(120,activation='tanh'),\n",
        "    layers.Dense(84,activation='tanh'),\n",
        "    layers.Dense(10,activation='softmax'),\n",
        "])"
      ],
      "metadata": {
        "id": "SQ58oaTbsmh4",
        "colab": {
          "base_uri": "https://localhost:8080/"
        },
        "outputId": "4860cde0-ddb6-45cd-9a39-d29369d893a3"
      },
      "execution_count": 4,
      "outputs": [
        {
          "output_type": "stream",
          "name": "stderr",
          "text": [
            "/usr/local/lib/python3.11/dist-packages/keras/src/layers/convolutional/base_conv.py:107: UserWarning: Do not pass an `input_shape`/`input_dim` argument to a layer. When using Sequential models, prefer using an `Input(shape)` object as the first layer in the model instead.\n",
            "  super().__init__(activity_regularizer=activity_regularizer, **kwargs)\n"
          ]
        }
      ]
    },
    {
      "cell_type": "code",
      "source": [
        "model.compile(optimizer='adam',loss='sparse_categorical_crossentropy',metrics=['accuracy'])\n",
        "history = model.fit(train_images,train_labels,epochs=10,validation_data=(test_images,test_labels))"
      ],
      "metadata": {
        "colab": {
          "base_uri": "https://localhost:8080/"
        },
        "id": "5d8-JMxHVMtl",
        "outputId": "db704e2d-77e4-4552-e6de-aca3b56717e8"
      },
      "execution_count": 5,
      "outputs": [
        {
          "output_type": "stream",
          "name": "stdout",
          "text": [
            "Epoch 1/10\n",
            "\u001b[1m1875/1875\u001b[0m \u001b[32m━━━━━━━━━━━━━━━━━━━━\u001b[0m\u001b[37m\u001b[0m \u001b[1m55s\u001b[0m 26ms/step - accuracy: 0.8801 - loss: 0.4008 - val_accuracy: 0.9698 - val_loss: 0.1011\n",
            "Epoch 2/10\n",
            "\u001b[1m1875/1875\u001b[0m \u001b[32m━━━━━━━━━━━━━━━━━━━━\u001b[0m\u001b[37m\u001b[0m \u001b[1m38s\u001b[0m 20ms/step - accuracy: 0.9710 - loss: 0.0933 - val_accuracy: 0.9756 - val_loss: 0.0754\n",
            "Epoch 3/10\n",
            "\u001b[1m1875/1875\u001b[0m \u001b[32m━━━━━━━━━━━━━━━━━━━━\u001b[0m\u001b[37m\u001b[0m \u001b[1m43s\u001b[0m 21ms/step - accuracy: 0.9818 - loss: 0.0590 - val_accuracy: 0.9804 - val_loss: 0.0598\n",
            "Epoch 4/10\n",
            "\u001b[1m1875/1875\u001b[0m \u001b[32m━━━━━━━━━━━━━━━━━━━━\u001b[0m\u001b[37m\u001b[0m \u001b[1m38s\u001b[0m 20ms/step - accuracy: 0.9857 - loss: 0.0455 - val_accuracy: 0.9810 - val_loss: 0.0597\n",
            "Epoch 5/10\n",
            "\u001b[1m1875/1875\u001b[0m \u001b[32m━━━━━━━━━━━━━━━━━━━━\u001b[0m\u001b[37m\u001b[0m \u001b[1m44s\u001b[0m 22ms/step - accuracy: 0.9892 - loss: 0.0337 - val_accuracy: 0.9835 - val_loss: 0.0506\n",
            "Epoch 6/10\n",
            "\u001b[1m1875/1875\u001b[0m \u001b[32m━━━━━━━━━━━━━━━━━━━━\u001b[0m\u001b[37m\u001b[0m \u001b[1m38s\u001b[0m 20ms/step - accuracy: 0.9916 - loss: 0.0271 - val_accuracy: 0.9855 - val_loss: 0.0443\n",
            "Epoch 7/10\n",
            "\u001b[1m1875/1875\u001b[0m \u001b[32m━━━━━━━━━━━━━━━━━━━━\u001b[0m\u001b[37m\u001b[0m \u001b[1m39s\u001b[0m 21ms/step - accuracy: 0.9925 - loss: 0.0236 - val_accuracy: 0.9841 - val_loss: 0.0494\n",
            "Epoch 8/10\n",
            "\u001b[1m1875/1875\u001b[0m \u001b[32m━━━━━━━━━━━━━━━━━━━━\u001b[0m\u001b[37m\u001b[0m \u001b[1m39s\u001b[0m 21ms/step - accuracy: 0.9937 - loss: 0.0194 - val_accuracy: 0.9848 - val_loss: 0.0509\n",
            "Epoch 9/10\n",
            "\u001b[1m1875/1875\u001b[0m \u001b[32m━━━━━━━━━━━━━━━━━━━━\u001b[0m\u001b[37m\u001b[0m \u001b[1m38s\u001b[0m 20ms/step - accuracy: 0.9945 - loss: 0.0181 - val_accuracy: 0.9840 - val_loss: 0.0539\n",
            "Epoch 10/10\n",
            "\u001b[1m1875/1875\u001b[0m \u001b[32m━━━━━━━━━━━━━━━━━━━━\u001b[0m\u001b[37m\u001b[0m \u001b[1m38s\u001b[0m 20ms/step - accuracy: 0.9948 - loss: 0.0153 - val_accuracy: 0.9848 - val_loss: 0.0535\n"
          ]
        }
      ]
    },
    {
      "cell_type": "code",
      "source": [
        "test_loss,test_accuracy = model.evaluate(test_images,test_labels,verbose=2)\n",
        "print(f\"test accuracy : { test_accuracy * 100:.2f}%\")"
      ],
      "metadata": {
        "id": "QGXuEGhRWTVo",
        "outputId": "754d8529-8fb2-4138-87f0-da5a46bbff01",
        "colab": {
          "base_uri": "https://localhost:8080/"
        }
      },
      "execution_count": 6,
      "outputs": [
        {
          "output_type": "stream",
          "name": "stdout",
          "text": [
            "313/313 - 2s - 8ms/step - accuracy: 0.9848 - loss: 0.0535\n",
            "test accuracy : 98.48%\n"
          ]
        }
      ]
    },
    {
      "cell_type": "code",
      "source": [
        "predictions = model.predict(test_images)\n",
        "plt.figure(figsize=(11,5))\n",
        "for i in range(10):\n",
        "  plt.subplot(2,5,i+1)\n",
        "  plt.imshow(test_images[i].numpy().squeeze(),cmap='gray')\n",
        "  plt.title(f\"Pred : {tf.argmax(predictions[i])}\")\n",
        "  plt.axis(\"OFF\")\n",
        "plt.show()\n",
        "\n"
      ],
      "metadata": {
        "id": "F7VGPIfvYZdC",
        "outputId": "2ef2593a-e9ac-4ffd-92c9-1a5ada97c6ac",
        "colab": {
          "base_uri": "https://localhost:8080/",
          "height": 433
        }
      },
      "execution_count": 7,
      "outputs": [
        {
          "output_type": "stream",
          "name": "stdout",
          "text": [
            "\u001b[1m313/313\u001b[0m \u001b[32m━━━━━━━━━━━━━━━━━━━━\u001b[0m\u001b[37m\u001b[0m \u001b[1m2s\u001b[0m 8ms/step\n"
          ]
        },
        {
          "output_type": "display_data",
          "data": {
            "text/plain": [
              "<Figure size 1100x500 with 10 Axes>"
            ],
            "image/png": "[encoded data removed]"
          },
          "metadata": {}
        }
      ]
    }
  ]
}